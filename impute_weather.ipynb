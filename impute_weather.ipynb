{
 "cells": [
  {
   "cell_type": "code",
   "execution_count": 29,
   "metadata": {},
   "outputs": [],
   "source": [
    "import pandas as pd\n",
    "import geopandas as gpd\n",
    "import networkx as nx\n",
    "import numpy as np\n",
    "from datetime import datetime\n",
    "from dateutil import parser\n",
    "from sklearn import preprocessing\n",
    "# pip install azureml-opendatasets-runtimeusing\n",
    "from azureml.opendatasets import NycTlcYellow\n",
    "import calendar\n",
    "import numpy.linalg as linalg\n",
    "import matplotlib.pyplot as plt\n",
    "import pickle\n",
    "import momepy\n",
    "import itertools\n",
    "# torch stuff\n",
    "from torch.utils.data import DataLoader, Dataset\n",
    "import torch\n",
    "import torch.nn as nn\n",
    "import torch.nn.functional as F\n",
    "from torch_geometric.nn import GCNConv\n",
    "from tqdm import tqdm\n",
    "import copy\n",
    "import os.path\n",
    "from sklearn.metrics import classification_report\n",
    "from sklearn.utils.extmath import softmax\n",
    "from pprint import pprint\n",
    "from itertools import islice"
   ]
  },
  {
   "cell_type": "code",
   "execution_count": 30,
   "metadata": {},
   "outputs": [],
   "source": [
    "# NOTE: This is what the NOAA columns mean\n",
    "# AWND - Average daily wind speed (tenths of meters per second),awnd\n",
    "# DAPR - Number of days included in the multiday precipitation total (MDPR),dapr\n",
    "# FRGT - Top of frozen ground layer (cm),frgt\n",
    "# FRTH - Thickness of frozen ground layer (cm),frth\n",
    "# GAHT - Difference between river and gauge height (cm),gaht\n",
    "# MDPR - Multiday precipitation total (tenths of mm. use with DAPR and DWPR. if available),mdpr\n",
    "# PGTM - Peak gust time (hours and minutes i.e. HHMM),pgtm\n",
    "# PRCP - Precipitation (tenths of mm),prcp\n",
    "# SNOW - Snowfall (mm),snow\n",
    "# SNWD - Snow depth (mm),snwd\n",
    "# THIC - Thickness of ice on water (tenths of mm),thic\n",
    "# TMAX - Maximum temperature (tenths of degrees C),tmax\n",
    "# TMIN - Minimum temperature (tenths of degrees C),tmin\n",
    "# TOBS - Temperature at the time of observation (tenths of degrees C),tobs\n",
    "# WDFG - Direction of peak wind gust (degrees),wdfg\n",
    "# WESD - Water equivalent of snow on the ground (tenths of mm),wesd\n",
    "# WESF - Water equivalent of snowfall (tenths of mm),wesf\n",
    "# WSFG - Peak guest wind speed (tenths of meters per second),wsfg\n",
    "# WT01 - Fog ice fog or freezing fog (may include heavy fog),fog\n",
    "# WT03 - Thunder,thunder\n",
    "# WT04 - Ice pellets sleet snow pellets or small hail,ice\n",
    "# WT05 - Hail (may include small hail),hail\n",
    "# WT06 - Glaze or rime,glaze\n",
    "# WT07 - Dust volcanic ash blowing dust blowing sand or blowing obstruction,dust\n",
    "# WT08 - Smoke or haze,smoke\n",
    "# WT09 - Blowing or drifting snow,snowdrift\n",
    "# WT11 - High or damaging winds,highwinds\n",
    "# WT14 - Drizzle,drizzle\n",
    "# WT16 - Rain (may include freezing rain drizzle and freezing drizzle),prcp2\n",
    "# WT18 - Snow snow pellets snow grains or ice crystals,snow2\n",
    "\n",
    "# NOTE: Before filling na, these are the NA values through these 3 years\n",
    "# STATION       0\n",
    "# NAME          0\n",
    "# DATE          0\n",
    "# AWND          3\n",
    "# PGTM       1095\n",
    "# PRCP          0\n",
    "# SNOW          0\n",
    "# SNWD          0\n",
    "# TAVG       1095\n",
    "# TMAX          0\n",
    "# TMIN          0\n",
    "# TSUN       1095\n",
    "# WDF2          2\n",
    "# WDF5          9\n",
    "# WSF2          2\n",
    "# WSF5          9\n",
    "# WT01        851\n",
    "# WT02       1081\n",
    "# WT03       1095\n",
    "# WT04       1092\n",
    "# WT05       1095\n",
    "# WT06       1091\n",
    "# WT08        904\n",
    "# WT13       1068\n",
    "# WT16       1072\n",
    "# WT18       1074\n",
    "# WT19       1086\n",
    "# WT22       1093\n",
    "# date          0\n",
    "# year          0\n",
    "\n",
    "# NOTE: Turns out, the WT-- columns signify whether an extreme \n",
    "# weather took place or not. If not, they get a NaN value. So NaNs\n",
    "# should be replaced with 0. Other NaNs are sparse, so we can fill forward.\n",
    "def updated_preprocess_weather(years=[2013]):\n",
    "    # Convert to int because that's how it's stored in the dataframe\n",
    "    years = [int(year) for year in years]\n",
    "    df = pd.read_csv('data/weather.csv')\n",
    "    df['date'] = pd.to_datetime(df.DATE)\n",
    "    df['year'] = df.date.dt.year\n",
    "    # Restrict to years we want\n",
    "    df = df[df.year.isin(years)]\n",
    "    # If we want more, we can one hot encode the NAN values\n",
    "    severe_weather_columns = [col for col in df if col.startswith('WT')]\n",
    "    df[severe_weather_columns] = df[severe_weather_columns].fillna(0.0)\n",
    "    # For columns missing only a few values, fill forward seems reasonable\n",
    "    fill_forward_columns = ['AWND','WDF2','WDF5','WSF2','WSF5']\n",
    "    df[fill_forward_columns] = df[fill_forward_columns].fillna(method='ffill')\n",
    "    df = df[df.columns[df.isna().sum() == 0]]\n",
    "\n",
    "    # Normalize weather data\n",
    "    df_num = df.select_dtypes(include='number')\n",
    "    min_max_scaler = preprocessing.MinMaxScaler()\n",
    "    np_scaled = min_max_scaler.fit_transform(df_num)\n",
    "    df_normalized = pd.DataFrame(np_scaled, columns = df_num.columns)\n",
    "    df[df_normalized.columns] = df_normalized\n",
    "\n",
    "    return df"
   ]
  },
  {
   "cell_type": "code",
   "execution_count": 31,
   "metadata": {},
   "outputs": [
    {
     "data": {
      "text/plain": [
       "Index(['STATION', 'NAME', 'DATE', 'AWND', 'PRCP', 'SNOW', 'SNWD', 'TMAX',\n",
       "       'TMIN', 'WDF2', 'WDF5', 'WSF2', 'WSF5', 'WT01', 'WT02', 'WT03', 'WT04',\n",
       "       'WT05', 'WT06', 'WT08', 'WT13', 'WT16', 'WT18', 'WT19', 'WT22', 'date',\n",
       "       'year'],\n",
       "      dtype='object')"
      ]
     },
     "execution_count": 31,
     "metadata": {},
     "output_type": "execute_result"
    }
   ],
   "source": [
    "weather_df = updated_preprocess_weather([2013,2014,2015])\n",
    "weather_df.columns"
   ]
  },
  {
   "cell_type": "code",
   "execution_count": null,
   "metadata": {},
   "outputs": [],
   "source": []
  }
 ],
 "metadata": {
  "kernelspec": {
   "display_name": "take_a_ride",
   "language": "python",
   "name": "python3"
  },
  "language_info": {
   "codemirror_mode": {
    "name": "ipython",
    "version": 3
   },
   "file_extension": ".py",
   "mimetype": "text/x-python",
   "name": "python",
   "nbconvert_exporter": "python",
   "pygments_lexer": "ipython3",
   "version": "3.9.15"
  },
  "orig_nbformat": 4,
  "vscode": {
   "interpreter": {
    "hash": "e35aaebb2d0cb590aa7750ed226c96b5ae7047775ee9dabaa90f72c8db9516ca"
   }
  }
 },
 "nbformat": 4,
 "nbformat_minor": 2
}
