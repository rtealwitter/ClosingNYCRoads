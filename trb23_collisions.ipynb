{
 "cells": [
  {
   "cell_type": "code",
   "execution_count": 1,
   "metadata": {},
   "outputs": [],
   "source": [
    "# Libraries\n",
    "import pandas as pd"
   ]
  },
  {
   "cell_type": "code",
   "execution_count": 2,
   "metadata": {},
   "outputs": [
    {
     "name": "stderr",
     "output_type": "stream",
     "text": [
      "C:\\Users\\Suzana\\Anaconda3\\lib\\site-packages\\IPython\\core\\interactiveshell.py:3063: DtypeWarning: Columns (3) have mixed types.Specify dtype option on import or set low_memory=False.\n",
      "  interactivity=interactivity, compiler=compiler, result=result)\n"
     ]
    }
   ],
   "source": [
    "# Import data\n",
    "data = pd.read_csv(r'C:\\Users\\Suzana\\Downloads\\Motor_Vehicle_Collisions_-_Crashes (2).csv')"
   ]
  },
  {
   "cell_type": "code",
   "execution_count": 7,
   "metadata": {},
   "outputs": [
    {
     "data": {
      "text/plain": [
       "(1908970, 29)"
      ]
     },
     "execution_count": 7,
     "metadata": {},
     "output_type": "execute_result"
    }
   ],
   "source": [
    "# Data dimensions\n",
    "data.shape"
   ]
  },
  {
   "cell_type": "code",
   "execution_count": 8,
   "metadata": {},
   "outputs": [
    {
     "data": {
      "text/html": [
       "<div>\n",
       "<style scoped>\n",
       "    .dataframe tbody tr th:only-of-type {\n",
       "        vertical-align: middle;\n",
       "    }\n",
       "\n",
       "    .dataframe tbody tr th {\n",
       "        vertical-align: top;\n",
       "    }\n",
       "\n",
       "    .dataframe thead th {\n",
       "        text-align: right;\n",
       "    }\n",
       "</style>\n",
       "<table border=\"1\" class=\"dataframe\">\n",
       "  <thead>\n",
       "    <tr style=\"text-align: right;\">\n",
       "      <th></th>\n",
       "      <th>CRASH DATE</th>\n",
       "      <th>CRASH TIME</th>\n",
       "      <th>BOROUGH</th>\n",
       "      <th>ZIP CODE</th>\n",
       "      <th>LATITUDE</th>\n",
       "      <th>LONGITUDE</th>\n",
       "      <th>LOCATION</th>\n",
       "      <th>ON STREET NAME</th>\n",
       "      <th>CROSS STREET NAME</th>\n",
       "      <th>OFF STREET NAME</th>\n",
       "      <th>...</th>\n",
       "      <th>CONTRIBUTING FACTOR VEHICLE 2</th>\n",
       "      <th>CONTRIBUTING FACTOR VEHICLE 3</th>\n",
       "      <th>CONTRIBUTING FACTOR VEHICLE 4</th>\n",
       "      <th>CONTRIBUTING FACTOR VEHICLE 5</th>\n",
       "      <th>COLLISION_ID</th>\n",
       "      <th>VEHICLE TYPE CODE 1</th>\n",
       "      <th>VEHICLE TYPE CODE 2</th>\n",
       "      <th>VEHICLE TYPE CODE 3</th>\n",
       "      <th>VEHICLE TYPE CODE 4</th>\n",
       "      <th>VEHICLE TYPE CODE 5</th>\n",
       "    </tr>\n",
       "  </thead>\n",
       "  <tbody>\n",
       "    <tr>\n",
       "      <th>0</th>\n",
       "      <td>04/14/2021</td>\n",
       "      <td>5:32</td>\n",
       "      <td>NaN</td>\n",
       "      <td>NaN</td>\n",
       "      <td>NaN</td>\n",
       "      <td>NaN</td>\n",
       "      <td>NaN</td>\n",
       "      <td>BRONX WHITESTONE BRIDGE</td>\n",
       "      <td>NaN</td>\n",
       "      <td>NaN</td>\n",
       "      <td>...</td>\n",
       "      <td>Unspecified</td>\n",
       "      <td>NaN</td>\n",
       "      <td>NaN</td>\n",
       "      <td>NaN</td>\n",
       "      <td>4407480</td>\n",
       "      <td>Sedan</td>\n",
       "      <td>Sedan</td>\n",
       "      <td>NaN</td>\n",
       "      <td>NaN</td>\n",
       "      <td>NaN</td>\n",
       "    </tr>\n",
       "    <tr>\n",
       "      <th>1</th>\n",
       "      <td>04/13/2021</td>\n",
       "      <td>21:35</td>\n",
       "      <td>BROOKLYN</td>\n",
       "      <td>11217</td>\n",
       "      <td>40.68358</td>\n",
       "      <td>-73.97617</td>\n",
       "      <td>(40.68358, -73.97617)</td>\n",
       "      <td>NaN</td>\n",
       "      <td>NaN</td>\n",
       "      <td>620       ATLANTIC AVENUE</td>\n",
       "      <td>...</td>\n",
       "      <td>NaN</td>\n",
       "      <td>NaN</td>\n",
       "      <td>NaN</td>\n",
       "      <td>NaN</td>\n",
       "      <td>4407147</td>\n",
       "      <td>Sedan</td>\n",
       "      <td>NaN</td>\n",
       "      <td>NaN</td>\n",
       "      <td>NaN</td>\n",
       "      <td>NaN</td>\n",
       "    </tr>\n",
       "    <tr>\n",
       "      <th>2</th>\n",
       "      <td>04/15/2021</td>\n",
       "      <td>16:15</td>\n",
       "      <td>NaN</td>\n",
       "      <td>NaN</td>\n",
       "      <td>NaN</td>\n",
       "      <td>NaN</td>\n",
       "      <td>NaN</td>\n",
       "      <td>HUTCHINSON RIVER PARKWAY</td>\n",
       "      <td>NaN</td>\n",
       "      <td>NaN</td>\n",
       "      <td>...</td>\n",
       "      <td>NaN</td>\n",
       "      <td>NaN</td>\n",
       "      <td>NaN</td>\n",
       "      <td>NaN</td>\n",
       "      <td>4407665</td>\n",
       "      <td>Station Wagon/Sport Utility Vehicle</td>\n",
       "      <td>NaN</td>\n",
       "      <td>NaN</td>\n",
       "      <td>NaN</td>\n",
       "      <td>NaN</td>\n",
       "    </tr>\n",
       "  </tbody>\n",
       "</table>\n",
       "<p>3 rows × 29 columns</p>\n",
       "</div>"
      ],
      "text/plain": [
       "   CRASH DATE CRASH TIME   BOROUGH ZIP CODE  LATITUDE  LONGITUDE  \\\n",
       "0  04/14/2021       5:32       NaN      NaN       NaN        NaN   \n",
       "1  04/13/2021      21:35  BROOKLYN    11217  40.68358  -73.97617   \n",
       "2  04/15/2021      16:15       NaN      NaN       NaN        NaN   \n",
       "\n",
       "                LOCATION            ON STREET NAME CROSS STREET NAME  \\\n",
       "0                    NaN   BRONX WHITESTONE BRIDGE               NaN   \n",
       "1  (40.68358, -73.97617)                       NaN               NaN   \n",
       "2                    NaN  HUTCHINSON RIVER PARKWAY               NaN   \n",
       "\n",
       "                            OFF STREET NAME  ...  \\\n",
       "0                                       NaN  ...   \n",
       "1  620       ATLANTIC AVENUE                 ...   \n",
       "2                                       NaN  ...   \n",
       "\n",
       "   CONTRIBUTING FACTOR VEHICLE 2  CONTRIBUTING FACTOR VEHICLE 3  \\\n",
       "0                    Unspecified                            NaN   \n",
       "1                            NaN                            NaN   \n",
       "2                            NaN                            NaN   \n",
       "\n",
       "   CONTRIBUTING FACTOR VEHICLE 4  CONTRIBUTING FACTOR VEHICLE 5  COLLISION_ID  \\\n",
       "0                            NaN                            NaN       4407480   \n",
       "1                            NaN                            NaN       4407147   \n",
       "2                            NaN                            NaN       4407665   \n",
       "\n",
       "                   VEHICLE TYPE CODE 1  VEHICLE TYPE CODE 2  \\\n",
       "0                                Sedan                Sedan   \n",
       "1                                Sedan                  NaN   \n",
       "2  Station Wagon/Sport Utility Vehicle                  NaN   \n",
       "\n",
       "   VEHICLE TYPE CODE 3 VEHICLE TYPE CODE 4 VEHICLE TYPE CODE 5  \n",
       "0                  NaN                 NaN                 NaN  \n",
       "1                  NaN                 NaN                 NaN  \n",
       "2                  NaN                 NaN                 NaN  \n",
       "\n",
       "[3 rows x 29 columns]"
      ]
     },
     "execution_count": 8,
     "metadata": {},
     "output_type": "execute_result"
    }
   ],
   "source": [
    "# Checking overall data\n",
    "data.head(3)"
   ]
  },
  {
   "cell_type": "code",
   "execution_count": 9,
   "metadata": {},
   "outputs": [
    {
     "data": {
      "text/plain": [
       "Index(['CRASH DATE', 'CRASH TIME', 'BOROUGH', 'ZIP CODE', 'LATITUDE',\n",
       "       'LONGITUDE', 'LOCATION', 'ON STREET NAME', 'CROSS STREET NAME',\n",
       "       'OFF STREET NAME', 'NUMBER OF PERSONS INJURED',\n",
       "       'NUMBER OF PERSONS KILLED', 'NUMBER OF PEDESTRIANS INJURED',\n",
       "       'NUMBER OF PEDESTRIANS KILLED', 'NUMBER OF CYCLIST INJURED',\n",
       "       'NUMBER OF CYCLIST KILLED', 'NUMBER OF MOTORIST INJURED',\n",
       "       'NUMBER OF MOTORIST KILLED', 'CONTRIBUTING FACTOR VEHICLE 1',\n",
       "       'CONTRIBUTING FACTOR VEHICLE 2', 'CONTRIBUTING FACTOR VEHICLE 3',\n",
       "       'CONTRIBUTING FACTOR VEHICLE 4', 'CONTRIBUTING FACTOR VEHICLE 5',\n",
       "       'COLLISION_ID', 'VEHICLE TYPE CODE 1', 'VEHICLE TYPE CODE 2',\n",
       "       'VEHICLE TYPE CODE 3', 'VEHICLE TYPE CODE 4', 'VEHICLE TYPE CODE 5'],\n",
       "      dtype='object')"
      ]
     },
     "execution_count": 9,
     "metadata": {},
     "output_type": "execute_result"
    }
   ],
   "source": [
    "# Columns Names\n",
    "data.columns"
   ]
  },
  {
   "cell_type": "code",
   "execution_count": 10,
   "metadata": {},
   "outputs": [
    {
     "name": "stdout",
     "output_type": "stream",
     "text": [
      "['Bike', 'BICYCLE', 'BK', 'Bicyc', 'BICYC', 'BKHOE']\n",
      "['Bike', 'BK', 'big r', 'BICYCLE']\n",
      "['Bike', 'BICYCLE']\n",
      "['Bike', 'BICYCLE']\n"
     ]
    }
   ],
   "source": [
    "# Identifying possible nomeclatures used for bicycles\n",
    "for i in range(1,5):\n",
    "    print([x for x in data['VEHICLE TYPE CODE {}'.format(i)].unique() if (str(x).startswith('Bi')|\n",
    "                                                                          str(x).startswith('BK')|\n",
    "                                                                          str(x).startswith('BI')|\n",
    "                                                                          str(x).startswith('Bk')|\n",
    "                                                                          str(x).startswith('bK')|\n",
    "                                                                          str(x).startswith('bk')|\n",
    "                                                                          str(x).startswith('bi')|\n",
    "                                                                          str(x).startswith('bI'))])\n"
   ]
  },
  {
   "cell_type": "code",
   "execution_count": 12,
   "metadata": {},
   "outputs": [],
   "source": [
    "# Terms found for bicycle\n",
    "terms = ['Bike','BK','Bicyc','BICYCLE','BICYC']"
   ]
  },
  {
   "cell_type": "code",
   "execution_count": 13,
   "metadata": {},
   "outputs": [],
   "source": [
    "# Filtering for collisions involving bicycles\n",
    "data_filter_all = data[(data['VEHICLE TYPE CODE 1'].isin(terms))|(data['VEHICLE TYPE CODE 2'].isin(terms))|\n",
    "                      (data['VEHICLE TYPE CODE 3'].isin(terms))|(data['VEHICLE TYPE CODE 4'].isin(terms))|\n",
    "                      (data['NUMBER OF CYCLIST INJURED']>0)|(data['NUMBER OF CYCLIST KILLED']>0)]"
   ]
  },
  {
   "cell_type": "code",
   "execution_count": 14,
   "metadata": {},
   "outputs": [],
   "source": [
    "# Filtering by only collisions with bicycles injured or killed\n",
    "data_filter_ik = data[(data['NUMBER OF CYCLIST INJURED']>0)|(data['NUMBER OF CYCLIST KILLED']>0)]"
   ]
  },
  {
   "cell_type": "code",
   "execution_count": 15,
   "metadata": {},
   "outputs": [
    {
     "data": {
      "text/plain": [
       "((59515, 29), (46644, 29))"
      ]
     },
     "execution_count": 15,
     "metadata": {},
     "output_type": "execute_result"
    }
   ],
   "source": [
    "# Filtered data sets dimensions\n",
    "data_filter_all.shape, data_filter_ik.shape"
   ]
  },
  {
   "cell_type": "code",
   "execution_count": 16,
   "metadata": {},
   "outputs": [
    {
     "data": {
      "text/html": [
       "<div>\n",
       "<style scoped>\n",
       "    .dataframe tbody tr th:only-of-type {\n",
       "        vertical-align: middle;\n",
       "    }\n",
       "\n",
       "    .dataframe tbody tr th {\n",
       "        vertical-align: top;\n",
       "    }\n",
       "\n",
       "    .dataframe thead th {\n",
       "        text-align: right;\n",
       "    }\n",
       "</style>\n",
       "<table border=\"1\" class=\"dataframe\">\n",
       "  <thead>\n",
       "    <tr style=\"text-align: right;\">\n",
       "      <th></th>\n",
       "      <th>CRASH DATE</th>\n",
       "      <th>CRASH TIME</th>\n",
       "      <th>BOROUGH</th>\n",
       "      <th>ZIP CODE</th>\n",
       "      <th>LATITUDE</th>\n",
       "      <th>LONGITUDE</th>\n",
       "      <th>LOCATION</th>\n",
       "      <th>ON STREET NAME</th>\n",
       "      <th>CROSS STREET NAME</th>\n",
       "      <th>OFF STREET NAME</th>\n",
       "      <th>...</th>\n",
       "      <th>CONTRIBUTING FACTOR VEHICLE 2</th>\n",
       "      <th>CONTRIBUTING FACTOR VEHICLE 3</th>\n",
       "      <th>CONTRIBUTING FACTOR VEHICLE 4</th>\n",
       "      <th>CONTRIBUTING FACTOR VEHICLE 5</th>\n",
       "      <th>COLLISION_ID</th>\n",
       "      <th>VEHICLE TYPE CODE 1</th>\n",
       "      <th>VEHICLE TYPE CODE 2</th>\n",
       "      <th>VEHICLE TYPE CODE 3</th>\n",
       "      <th>VEHICLE TYPE CODE 4</th>\n",
       "      <th>VEHICLE TYPE CODE 5</th>\n",
       "    </tr>\n",
       "  </thead>\n",
       "  <tbody>\n",
       "    <tr>\n",
       "      <th>32589</th>\n",
       "      <td>04/07/2021</td>\n",
       "      <td>20:20</td>\n",
       "      <td>QUEENS</td>\n",
       "      <td>11103</td>\n",
       "      <td>40.758690</td>\n",
       "      <td>-73.911500</td>\n",
       "      <td>(40.75869, -73.9115)</td>\n",
       "      <td>31 AVENUE</td>\n",
       "      <td>47 STREET</td>\n",
       "      <td>NaN</td>\n",
       "      <td>...</td>\n",
       "      <td>Unspecified</td>\n",
       "      <td>NaN</td>\n",
       "      <td>NaN</td>\n",
       "      <td>NaN</td>\n",
       "      <td>4406423</td>\n",
       "      <td>Sedan</td>\n",
       "      <td>Bike</td>\n",
       "      <td>NaN</td>\n",
       "      <td>NaN</td>\n",
       "      <td>NaN</td>\n",
       "    </tr>\n",
       "    <tr>\n",
       "      <th>1455541</th>\n",
       "      <td>08/30/2014</td>\n",
       "      <td>0:58</td>\n",
       "      <td>MANHATTAN</td>\n",
       "      <td>10001</td>\n",
       "      <td>40.757021</td>\n",
       "      <td>-74.004927</td>\n",
       "      <td>(40.7570213, -74.004927)</td>\n",
       "      <td>WEST 34 STREET</td>\n",
       "      <td>JOE DIMAGGIO HIGHWAY</td>\n",
       "      <td>NaN</td>\n",
       "      <td>...</td>\n",
       "      <td>Unspecified</td>\n",
       "      <td>NaN</td>\n",
       "      <td>NaN</td>\n",
       "      <td>NaN</td>\n",
       "      <td>1016272</td>\n",
       "      <td>UNKNOWN</td>\n",
       "      <td>BICYCLE</td>\n",
       "      <td>NaN</td>\n",
       "      <td>NaN</td>\n",
       "      <td>NaN</td>\n",
       "    </tr>\n",
       "    <tr>\n",
       "      <th>372560</th>\n",
       "      <td>06/22/2019</td>\n",
       "      <td>21:05</td>\n",
       "      <td>BROOKLYN</td>\n",
       "      <td>11235</td>\n",
       "      <td>40.584800</td>\n",
       "      <td>-73.931170</td>\n",
       "      <td>(40.5848, -73.93117)</td>\n",
       "      <td>NaN</td>\n",
       "      <td>NaN</td>\n",
       "      <td>2840      KNAPP STREET</td>\n",
       "      <td>...</td>\n",
       "      <td>NaN</td>\n",
       "      <td>NaN</td>\n",
       "      <td>NaN</td>\n",
       "      <td>NaN</td>\n",
       "      <td>4156616</td>\n",
       "      <td>Bike</td>\n",
       "      <td>NaN</td>\n",
       "      <td>NaN</td>\n",
       "      <td>NaN</td>\n",
       "      <td>NaN</td>\n",
       "    </tr>\n",
       "  </tbody>\n",
       "</table>\n",
       "<p>3 rows × 29 columns</p>\n",
       "</div>"
      ],
      "text/plain": [
       "         CRASH DATE CRASH TIME    BOROUGH ZIP CODE   LATITUDE  LONGITUDE  \\\n",
       "32589    04/07/2021      20:20     QUEENS    11103  40.758690 -73.911500   \n",
       "1455541  08/30/2014       0:58  MANHATTAN    10001  40.757021 -74.004927   \n",
       "372560   06/22/2019      21:05   BROOKLYN    11235  40.584800 -73.931170   \n",
       "\n",
       "                         LOCATION                    ON STREET NAME  \\\n",
       "32589        (40.75869, -73.9115)  31 AVENUE                          \n",
       "1455541  (40.7570213, -74.004927)  WEST 34 STREET                     \n",
       "372560       (40.5848, -73.93117)                               NaN   \n",
       "\n",
       "                        CROSS STREET NAME  \\\n",
       "32589                           47 STREET   \n",
       "1455541  JOE DIMAGGIO HIGHWAY               \n",
       "372560                                NaN   \n",
       "\n",
       "                                  OFF STREET NAME  ...  \\\n",
       "32589                                         NaN  ...   \n",
       "1455541                                       NaN  ...   \n",
       "372560   2840      KNAPP STREET                    ...   \n",
       "\n",
       "         CONTRIBUTING FACTOR VEHICLE 2  CONTRIBUTING FACTOR VEHICLE 3  \\\n",
       "32589                      Unspecified                            NaN   \n",
       "1455541                    Unspecified                            NaN   \n",
       "372560                             NaN                            NaN   \n",
       "\n",
       "         CONTRIBUTING FACTOR VEHICLE 4  CONTRIBUTING FACTOR VEHICLE 5  \\\n",
       "32589                              NaN                            NaN   \n",
       "1455541                            NaN                            NaN   \n",
       "372560                             NaN                            NaN   \n",
       "\n",
       "         COLLISION_ID  VEHICLE TYPE CODE 1  VEHICLE TYPE CODE 2  \\\n",
       "32589         4406423                Sedan                 Bike   \n",
       "1455541       1016272              UNKNOWN              BICYCLE   \n",
       "372560        4156616                 Bike                  NaN   \n",
       "\n",
       "         VEHICLE TYPE CODE 3 VEHICLE TYPE CODE 4 VEHICLE TYPE CODE 5  \n",
       "32589                    NaN                 NaN                 NaN  \n",
       "1455541                  NaN                 NaN                 NaN  \n",
       "372560                   NaN                 NaN                 NaN  \n",
       "\n",
       "[3 rows x 29 columns]"
      ]
     },
     "execution_count": 16,
     "metadata": {},
     "output_type": "execute_result"
    }
   ],
   "source": [
    "data_filter_all.sample(3)"
   ]
  },
  {
   "cell_type": "markdown",
   "metadata": {},
   "source": [
    "### Following snippets are for previous project"
   ]
  },
  {
   "cell_type": "code",
   "execution_count": 12,
   "metadata": {},
   "outputs": [
    {
     "name": "stderr",
     "output_type": "stream",
     "text": [
      "C:\\Users\\Suzana\\Anaconda3\\lib\\site-packages\\ipykernel_launcher.py:1: SettingWithCopyWarning: \n",
      "A value is trying to be set on a copy of a slice from a DataFrame.\n",
      "Try using .loc[row_indexer,col_indexer] = value instead\n",
      "\n",
      "See the caveats in the documentation: https://pandas.pydata.org/pandas-docs/stable/user_guide/indexing.html#returning-a-view-versus-a-copy\n",
      "  \"\"\"Entry point for launching an IPython kernel.\n",
      "C:\\Users\\Suzana\\Anaconda3\\lib\\site-packages\\ipykernel_launcher.py:2: SettingWithCopyWarning: \n",
      "A value is trying to be set on a copy of a slice from a DataFrame.\n",
      "Try using .loc[row_indexer,col_indexer] = value instead\n",
      "\n",
      "See the caveats in the documentation: https://pandas.pydata.org/pandas-docs/stable/user_guide/indexing.html#returning-a-view-versus-a-copy\n",
      "  \n"
     ]
    }
   ],
   "source": [
    "data_filter_all['year'] = pd.to_datetime(data_filter_all['CRASH DATE']).dt.year\n",
    "data_filter_ik['year'] = pd.to_datetime(data_filter_ik['CRASH DATE']).dt.year"
   ]
  },
  {
   "cell_type": "code",
   "execution_count": 13,
   "metadata": {},
   "outputs": [],
   "source": [
    "data_byYear = data_filter_all.groupby('year').count()['CRASH DATE']\n",
    "data_byYear = data_byYear[(data_byYear.index<=2022) & (data_byYear.index>2019)]"
   ]
  },
  {
   "cell_type": "code",
   "execution_count": 14,
   "metadata": {},
   "outputs": [],
   "source": [
    "data_filter_all[(data_filter_all['year']<=2022)&(data_filter_all['year']>2019)][['NUMBER OF CYCLIST INJURED','NUMBER OF CYCLIST KILLED','year']].groupby('year').describe().T.to_csv('071122_trb23_descriptives_collision2019-2022.csv')"
   ]
  },
  {
   "cell_type": "code",
   "execution_count": 15,
   "metadata": {},
   "outputs": [
    {
     "data": {
      "text/html": [
       "<div>\n",
       "<style scoped>\n",
       "    .dataframe tbody tr th:only-of-type {\n",
       "        vertical-align: middle;\n",
       "    }\n",
       "\n",
       "    .dataframe tbody tr th {\n",
       "        vertical-align: top;\n",
       "    }\n",
       "\n",
       "    .dataframe thead th {\n",
       "        text-align: right;\n",
       "    }\n",
       "</style>\n",
       "<table border=\"1\" class=\"dataframe\">\n",
       "  <thead>\n",
       "    <tr style=\"text-align: right;\">\n",
       "      <th></th>\n",
       "      <th>count</th>\n",
       "      <th>mean</th>\n",
       "      <th>std</th>\n",
       "      <th>min</th>\n",
       "      <th>25%</th>\n",
       "      <th>50%</th>\n",
       "      <th>75%</th>\n",
       "      <th>max</th>\n",
       "    </tr>\n",
       "  </thead>\n",
       "  <tbody>\n",
       "    <tr>\n",
       "      <th>NUMBER OF CYCLIST INJURED</th>\n",
       "      <td>15168.0</td>\n",
       "      <td>0.839003</td>\n",
       "      <td>0.408007</td>\n",
       "      <td>0.0</td>\n",
       "      <td>1.0</td>\n",
       "      <td>1.0</td>\n",
       "      <td>1.0</td>\n",
       "      <td>3.0</td>\n",
       "    </tr>\n",
       "    <tr>\n",
       "      <th>NUMBER OF CYCLIST KILLED</th>\n",
       "      <td>15168.0</td>\n",
       "      <td>0.003758</td>\n",
       "      <td>0.061189</td>\n",
       "      <td>0.0</td>\n",
       "      <td>0.0</td>\n",
       "      <td>0.0</td>\n",
       "      <td>0.0</td>\n",
       "      <td>1.0</td>\n",
       "    </tr>\n",
       "    <tr>\n",
       "      <th>year</th>\n",
       "      <td>15168.0</td>\n",
       "      <td>2020.744528</td>\n",
       "      <td>0.735693</td>\n",
       "      <td>2020.0</td>\n",
       "      <td>2020.0</td>\n",
       "      <td>2021.0</td>\n",
       "      <td>2021.0</td>\n",
       "      <td>2022.0</td>\n",
       "    </tr>\n",
       "  </tbody>\n",
       "</table>\n",
       "</div>"
      ],
      "text/plain": [
       "                             count         mean       std     min     25%  \\\n",
       "NUMBER OF CYCLIST INJURED  15168.0     0.839003  0.408007     0.0     1.0   \n",
       "NUMBER OF CYCLIST KILLED   15168.0     0.003758  0.061189     0.0     0.0   \n",
       "year                       15168.0  2020.744528  0.735693  2020.0  2020.0   \n",
       "\n",
       "                              50%     75%     max  \n",
       "NUMBER OF CYCLIST INJURED     1.0     1.0     3.0  \n",
       "NUMBER OF CYCLIST KILLED      0.0     0.0     1.0  \n",
       "year                       2021.0  2021.0  2022.0  "
      ]
     },
     "execution_count": 15,
     "metadata": {},
     "output_type": "execute_result"
    }
   ],
   "source": [
    "data_filter_all[(data_filter_all['year']<=2022)&(data_filter_all['year']>2019)][['NUMBER OF CYCLIST INJURED','NUMBER OF CYCLIST KILLED','year']].describe().T"
   ]
  },
  {
   "cell_type": "code",
   "execution_count": 16,
   "metadata": {},
   "outputs": [
    {
     "data": {
      "text/html": [
       "<div>\n",
       "<style scoped>\n",
       "    .dataframe tbody tr th:only-of-type {\n",
       "        vertical-align: middle;\n",
       "    }\n",
       "\n",
       "    .dataframe tbody tr th {\n",
       "        vertical-align: top;\n",
       "    }\n",
       "\n",
       "    .dataframe thead th {\n",
       "        text-align: right;\n",
       "    }\n",
       "</style>\n",
       "<table border=\"1\" class=\"dataframe\">\n",
       "  <thead>\n",
       "    <tr style=\"text-align: right;\">\n",
       "      <th></th>\n",
       "      <th>count</th>\n",
       "      <th>mean</th>\n",
       "      <th>std</th>\n",
       "      <th>min</th>\n",
       "      <th>25%</th>\n",
       "      <th>50%</th>\n",
       "      <th>75%</th>\n",
       "      <th>max</th>\n",
       "    </tr>\n",
       "  </thead>\n",
       "  <tbody>\n",
       "    <tr>\n",
       "      <th>NUMBER OF CYCLIST INJURED</th>\n",
       "      <td>12551.0</td>\n",
       "      <td>1.013943</td>\n",
       "      <td>0.154239</td>\n",
       "      <td>0.0</td>\n",
       "      <td>1.0</td>\n",
       "      <td>1.0</td>\n",
       "      <td>1.0</td>\n",
       "      <td>3.0</td>\n",
       "    </tr>\n",
       "    <tr>\n",
       "      <th>NUMBER OF CYCLIST KILLED</th>\n",
       "      <td>12551.0</td>\n",
       "      <td>0.004541</td>\n",
       "      <td>0.067240</td>\n",
       "      <td>0.0</td>\n",
       "      <td>0.0</td>\n",
       "      <td>0.0</td>\n",
       "      <td>0.0</td>\n",
       "      <td>1.0</td>\n",
       "    </tr>\n",
       "    <tr>\n",
       "      <th>year</th>\n",
       "      <td>12551.0</td>\n",
       "      <td>2020.736037</td>\n",
       "      <td>0.734819</td>\n",
       "      <td>2020.0</td>\n",
       "      <td>2020.0</td>\n",
       "      <td>2021.0</td>\n",
       "      <td>2021.0</td>\n",
       "      <td>2022.0</td>\n",
       "    </tr>\n",
       "  </tbody>\n",
       "</table>\n",
       "</div>"
      ],
      "text/plain": [
       "                             count         mean       std     min     25%  \\\n",
       "NUMBER OF CYCLIST INJURED  12551.0     1.013943  0.154239     0.0     1.0   \n",
       "NUMBER OF CYCLIST KILLED   12551.0     0.004541  0.067240     0.0     0.0   \n",
       "year                       12551.0  2020.736037  0.734819  2020.0  2020.0   \n",
       "\n",
       "                              50%     75%     max  \n",
       "NUMBER OF CYCLIST INJURED     1.0     1.0     3.0  \n",
       "NUMBER OF CYCLIST KILLED      0.0     0.0     1.0  \n",
       "year                       2021.0  2021.0  2022.0  "
      ]
     },
     "execution_count": 16,
     "metadata": {},
     "output_type": "execute_result"
    }
   ],
   "source": [
    "data_filter_ik[(data_filter_ik['year']<=2022)&(data_filter_ik['year']>2019)][['NUMBER OF CYCLIST INJURED','NUMBER OF CYCLIST KILLED','year']].describe().T"
   ]
  },
  {
   "cell_type": "code",
   "execution_count": 17,
   "metadata": {},
   "outputs": [
    {
     "data": {
      "text/html": [
       "<div>\n",
       "<style scoped>\n",
       "    .dataframe tbody tr th:only-of-type {\n",
       "        vertical-align: middle;\n",
       "    }\n",
       "\n",
       "    .dataframe tbody tr th {\n",
       "        vertical-align: top;\n",
       "    }\n",
       "\n",
       "    .dataframe thead th {\n",
       "        text-align: right;\n",
       "    }\n",
       "</style>\n",
       "<table border=\"1\" class=\"dataframe\">\n",
       "  <thead>\n",
       "    <tr style=\"text-align: right;\">\n",
       "      <th></th>\n",
       "      <th>CRASH DATE</th>\n",
       "      <th>CRASH TIME</th>\n",
       "      <th>BOROUGH</th>\n",
       "      <th>ZIP CODE</th>\n",
       "      <th>LATITUDE</th>\n",
       "      <th>LONGITUDE</th>\n",
       "      <th>LOCATION</th>\n",
       "      <th>ON STREET NAME</th>\n",
       "      <th>CROSS STREET NAME</th>\n",
       "      <th>OFF STREET NAME</th>\n",
       "      <th>...</th>\n",
       "      <th>CONTRIBUTING FACTOR VEHICLE 3</th>\n",
       "      <th>CONTRIBUTING FACTOR VEHICLE 4</th>\n",
       "      <th>CONTRIBUTING FACTOR VEHICLE 5</th>\n",
       "      <th>COLLISION_ID</th>\n",
       "      <th>VEHICLE TYPE CODE 1</th>\n",
       "      <th>VEHICLE TYPE CODE 2</th>\n",
       "      <th>VEHICLE TYPE CODE 3</th>\n",
       "      <th>VEHICLE TYPE CODE 4</th>\n",
       "      <th>VEHICLE TYPE CODE 5</th>\n",
       "      <th>year</th>\n",
       "    </tr>\n",
       "  </thead>\n",
       "  <tbody>\n",
       "    <tr>\n",
       "      <th>1907521</th>\n",
       "      <td>07/09/2012</td>\n",
       "      <td>17:37</td>\n",
       "      <td>BROOKLYN</td>\n",
       "      <td>11222</td>\n",
       "      <td>40.720601</td>\n",
       "      <td>-73.954754</td>\n",
       "      <td>(40.7206006, -73.9547539)</td>\n",
       "      <td>BEDFORD AVENUE</td>\n",
       "      <td>NORTH 12 STREET</td>\n",
       "      <td>NaN</td>\n",
       "      <td>...</td>\n",
       "      <td>NaN</td>\n",
       "      <td>NaN</td>\n",
       "      <td>NaN</td>\n",
       "      <td>198192</td>\n",
       "      <td>TAXI</td>\n",
       "      <td>BICYCLE</td>\n",
       "      <td>NaN</td>\n",
       "      <td>NaN</td>\n",
       "      <td>NaN</td>\n",
       "      <td>2012</td>\n",
       "    </tr>\n",
       "    <tr>\n",
       "      <th>1907542</th>\n",
       "      <td>07/02/2012</td>\n",
       "      <td>9:46</td>\n",
       "      <td>MANHATTAN</td>\n",
       "      <td>10002</td>\n",
       "      <td>40.717724</td>\n",
       "      <td>-73.985765</td>\n",
       "      <td>(40.7177239, -73.9857652)</td>\n",
       "      <td>DELANCEY STREET</td>\n",
       "      <td>CLINTON STREET</td>\n",
       "      <td>NaN</td>\n",
       "      <td>...</td>\n",
       "      <td>NaN</td>\n",
       "      <td>NaN</td>\n",
       "      <td>NaN</td>\n",
       "      <td>12187</td>\n",
       "      <td>PICK-UP TRUCK</td>\n",
       "      <td>BICYCLE</td>\n",
       "      <td>NaN</td>\n",
       "      <td>NaN</td>\n",
       "      <td>NaN</td>\n",
       "      <td>2012</td>\n",
       "    </tr>\n",
       "    <tr>\n",
       "      <th>1907610</th>\n",
       "      <td>07/07/2012</td>\n",
       "      <td>18:40</td>\n",
       "      <td>NaN</td>\n",
       "      <td>NaN</td>\n",
       "      <td>40.867335</td>\n",
       "      <td>-73.822707</td>\n",
       "      <td>(40.8673349, -73.8227066)</td>\n",
       "      <td>NaN</td>\n",
       "      <td>NaN</td>\n",
       "      <td>NaN</td>\n",
       "      <td>...</td>\n",
       "      <td>NaN</td>\n",
       "      <td>NaN</td>\n",
       "      <td>NaN</td>\n",
       "      <td>2912116</td>\n",
       "      <td>PASSENGER VEHICLE</td>\n",
       "      <td>BICYCLE</td>\n",
       "      <td>NaN</td>\n",
       "      <td>NaN</td>\n",
       "      <td>NaN</td>\n",
       "      <td>2012</td>\n",
       "    </tr>\n",
       "    <tr>\n",
       "      <th>1907611</th>\n",
       "      <td>07/06/2012</td>\n",
       "      <td>13:33</td>\n",
       "      <td>BROOKLYN</td>\n",
       "      <td>11209</td>\n",
       "      <td>40.625780</td>\n",
       "      <td>-74.024154</td>\n",
       "      <td>(40.6257805, -74.0241544)</td>\n",
       "      <td>5 AVENUE</td>\n",
       "      <td>80 STREET</td>\n",
       "      <td>NaN</td>\n",
       "      <td>...</td>\n",
       "      <td>NaN</td>\n",
       "      <td>NaN</td>\n",
       "      <td>NaN</td>\n",
       "      <td>140835</td>\n",
       "      <td>PASSENGER VEHICLE</td>\n",
       "      <td>BICYCLE</td>\n",
       "      <td>NaN</td>\n",
       "      <td>NaN</td>\n",
       "      <td>NaN</td>\n",
       "      <td>2012</td>\n",
       "    </tr>\n",
       "    <tr>\n",
       "      <th>1907643</th>\n",
       "      <td>07/02/2012</td>\n",
       "      <td>0:21</td>\n",
       "      <td>BROOKLYN</td>\n",
       "      <td>11218</td>\n",
       "      <td>40.636133</td>\n",
       "      <td>-73.972736</td>\n",
       "      <td>(40.6361331, -73.9727361)</td>\n",
       "      <td>DITMAS AVENUE</td>\n",
       "      <td>OCEAN PARKWAY</td>\n",
       "      <td>NaN</td>\n",
       "      <td>...</td>\n",
       "      <td>NaN</td>\n",
       "      <td>NaN</td>\n",
       "      <td>NaN</td>\n",
       "      <td>129911</td>\n",
       "      <td>PASSENGER VEHICLE</td>\n",
       "      <td>BICYCLE</td>\n",
       "      <td>NaN</td>\n",
       "      <td>NaN</td>\n",
       "      <td>NaN</td>\n",
       "      <td>2012</td>\n",
       "    </tr>\n",
       "  </tbody>\n",
       "</table>\n",
       "<p>5 rows × 30 columns</p>\n",
       "</div>"
      ],
      "text/plain": [
       "         CRASH DATE CRASH TIME    BOROUGH ZIP CODE   LATITUDE  LONGITUDE  \\\n",
       "1907521  07/09/2012      17:37   BROOKLYN    11222  40.720601 -73.954754   \n",
       "1907542  07/02/2012       9:46  MANHATTAN    10002  40.717724 -73.985765   \n",
       "1907610  07/07/2012      18:40        NaN      NaN  40.867335 -73.822707   \n",
       "1907611  07/06/2012      13:33   BROOKLYN    11209  40.625780 -74.024154   \n",
       "1907643  07/02/2012       0:21   BROOKLYN    11218  40.636133 -73.972736   \n",
       "\n",
       "                          LOCATION                    ON STREET NAME  \\\n",
       "1907521  (40.7206006, -73.9547539)  BEDFORD AVENUE                     \n",
       "1907542  (40.7177239, -73.9857652)  DELANCEY STREET                    \n",
       "1907610  (40.8673349, -73.8227066)                               NaN   \n",
       "1907611  (40.6257805, -74.0241544)  5 AVENUE                           \n",
       "1907643  (40.6361331, -73.9727361)  DITMAS AVENUE                      \n",
       "\n",
       "                        CROSS STREET NAME OFF STREET NAME  ...  \\\n",
       "1907521  NORTH 12 STREET                              NaN  ...   \n",
       "1907542  CLINTON STREET                               NaN  ...   \n",
       "1907610                               NaN             NaN  ...   \n",
       "1907611  80 STREET                                    NaN  ...   \n",
       "1907643  OCEAN PARKWAY                                NaN  ...   \n",
       "\n",
       "         CONTRIBUTING FACTOR VEHICLE 3  CONTRIBUTING FACTOR VEHICLE 4  \\\n",
       "1907521                            NaN                            NaN   \n",
       "1907542                            NaN                            NaN   \n",
       "1907610                            NaN                            NaN   \n",
       "1907611                            NaN                            NaN   \n",
       "1907643                            NaN                            NaN   \n",
       "\n",
       "         CONTRIBUTING FACTOR VEHICLE 5  COLLISION_ID  VEHICLE TYPE CODE 1  \\\n",
       "1907521                            NaN        198192                 TAXI   \n",
       "1907542                            NaN         12187        PICK-UP TRUCK   \n",
       "1907610                            NaN       2912116    PASSENGER VEHICLE   \n",
       "1907611                            NaN        140835    PASSENGER VEHICLE   \n",
       "1907643                            NaN        129911    PASSENGER VEHICLE   \n",
       "\n",
       "         VEHICLE TYPE CODE 2  VEHICLE TYPE CODE 3  VEHICLE TYPE CODE 4  \\\n",
       "1907521              BICYCLE                  NaN                  NaN   \n",
       "1907542              BICYCLE                  NaN                  NaN   \n",
       "1907610              BICYCLE                  NaN                  NaN   \n",
       "1907611              BICYCLE                  NaN                  NaN   \n",
       "1907643              BICYCLE                  NaN                  NaN   \n",
       "\n",
       "        VEHICLE TYPE CODE 5  year  \n",
       "1907521                 NaN  2012  \n",
       "1907542                 NaN  2012  \n",
       "1907610                 NaN  2012  \n",
       "1907611                 NaN  2012  \n",
       "1907643                 NaN  2012  \n",
       "\n",
       "[5 rows x 30 columns]"
      ]
     },
     "execution_count": 17,
     "metadata": {},
     "output_type": "execute_result"
    }
   ],
   "source": [
    "data_filter_all.tail()"
   ]
  },
  {
   "cell_type": "code",
   "execution_count": null,
   "metadata": {},
   "outputs": [],
   "source": []
  },
  {
   "cell_type": "code",
   "execution_count": 18,
   "metadata": {},
   "outputs": [
    {
     "data": {
      "image/png": "[encoded data removed]",
      "text/plain": [
       "<Figure size 432x288 with 1 Axes>"
      ]
     },
     "metadata": {
      "needs_background": "light"
     },
     "output_type": "display_data"
    }
   ],
   "source": [
    "import matplotlib.pyplot as plt\n",
    "\n",
    "plt.plot(data_byYear.index, data_byYear, color = 'red', marker='s')\n",
    "\n",
    "plt.title(\"Collisions Resulting in Cyclists Injured or Killed\")\n",
    "\n",
    "plt.ylabel(\"Number of Collisions\")\n",
    "\n",
    "plt.show()"
   ]
  },
  {
   "cell_type": "code",
   "execution_count": 19,
   "metadata": {},
   "outputs": [],
   "source": [
    "# data_filter_all.to_csv('071122_bike_collision_v2.csv')"
   ]
  },
  {
   "cell_type": "code",
   "execution_count": 21,
   "metadata": {},
   "outputs": [],
   "source": [
    "# data_filter[(data_filter['year']<2022)&(data_filter['year']>2012)][['NUMBER OF CYCLIST INJURED','NUMBER OF CYCLIST KILLED','year']].groupby('year').sum()"
   ]
  },
  {
   "cell_type": "code",
   "execution_count": 22,
   "metadata": {},
   "outputs": [],
   "source": [
    "# data_out"
   ]
  },
  {
   "cell_type": "code",
   "execution_count": 23,
   "metadata": {},
   "outputs": [],
   "source": [
    "data_out = data_filter_all[['NUMBER OF CYCLIST INJURED','NUMBER OF CYCLIST KILLED','year','LATITUDE','LONGITUDE']]"
   ]
  },
  {
   "cell_type": "code",
   "execution_count": null,
   "metadata": {},
   "outputs": [],
   "source": []
  },
  {
   "cell_type": "code",
   "execution_count": 24,
   "metadata": {},
   "outputs": [],
   "source": [
    "data_out.to_csv(r'C:\\Users\\Suzana\\Dropbox\\Suzana_Bernardes\\Papers\\2022-TRB\\Data\\071422_trb23_collisions_v3.csv')"
   ]
  },
  {
   "cell_type": "code",
   "execution_count": 26,
   "metadata": {},
   "outputs": [],
   "source": [
    "data_out1 = data_filter_all[data_filter_all['year']<2019][['NUMBER OF CYCLIST INJURED','NUMBER OF CYCLIST KILLED','year','LATITUDE','LONGITUDE']]"
   ]
  },
  {
   "cell_type": "code",
   "execution_count": 27,
   "metadata": {},
   "outputs": [],
   "source": [
    "data_out1.to_csv(r'C:\\Users\\Suzana\\Dropbox\\Suzana_Bernardes\\Papers\\2022-TRB\\Data\\071522_trb23_collisions2012-2018_v3.csv')"
   ]
  },
  {
   "cell_type": "code",
   "execution_count": 25,
   "metadata": {},
   "outputs": [
    {
     "data": {
      "text/plain": [
       "<matplotlib.collections.PathCollection at 0x256b50e6c50>"
      ]
     },
     "execution_count": 25,
     "metadata": {},
     "output_type": "execute_result"
    },
    {
     "data": {
      "image/png": "[encoded data removed]",
      "text/plain": [
       "<Figure size 432x288 with 1 Axes>"
      ]
     },
     "metadata": {
      "needs_background": "light"
     },
     "output_type": "display_data"
    }
   ],
   "source": [
    "plt.scatter(x='LONGITUDE',y='LATITUDE',data=data_out[data_out['LATITUDE']>0])"
   ]
  },
  {
   "cell_type": "code",
   "execution_count": null,
   "metadata": {},
   "outputs": [],
   "source": [
    "data_out"
   ]
  }
 ],
 "metadata": {
  "kernelspec": {
   "display_name": "Python 3",
   "language": "python",
   "name": "python3"
  },
  "language_info": {
   "codemirror_mode": {
    "name": "ipython",
    "version": 3
   },
   "file_extension": ".py",
   "mimetype": "text/x-python",
   "name": "python",
   "nbconvert_exporter": "python",
   "pygments_lexer": "ipython3",
   "version": "3.7.3"
  }
 },
 "nbformat": 4,
 "nbformat_minor": 4
}
