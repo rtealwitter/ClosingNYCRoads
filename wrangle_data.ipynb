{
 "cells": [
  {
   "cell_type": "markdown",
   "metadata": {},
   "source": [
    "### Preprocessing Data"
   ]
  },
  {
   "cell_type": "code",
   "execution_count": 501,
   "metadata": {},
   "outputs": [],
   "source": [
    "import pandas as pd\n",
    "import geopandas as gpd\n",
    "import shapely\n",
    "import networkx as nx\n",
    "import numpy as np\n",
    "import numpy.linalg as linalg\n",
    "import matplotlib.pyplot as plt\n",
    "import pickle\n",
    "\n",
    "# Data sources\n",
    "# Default file names\n",
    "filename_infrastructure = 'data_unwrangled/Centerline.csv'\n",
    "filename_collisions = 'data_unwrangled/Motor_Vehicle_Collisions_-_Crashes.csv'\n",
    "filename_boundaries = 'data_unwrangled/2010 Neighborhood Tabulation Areas (NTAs).geojson'\n",
    "filename_saved = 'data_unwrangled/flows.pickle'"
   ]
  },
  {
   "cell_type": "code",
   "execution_count": 274,
   "metadata": {},
   "outputs": [],
   "source": [
    "def preprocess_infrastructure(filename, filter):\n",
    "    # Load data\n",
    "    infrastructure = pd.read_csv(filename)\n",
    "\n",
    "    # Convert to geopandas format\n",
    "    infrastructure = gpd.GeoDataFrame(infrastructure)\n",
    "    infrastructure['the_geom'] = infrastructure['the_geom'].apply(shapely.wkt.loads)\n",
    "    infrastructure.set_geometry('the_geom', inplace=True)\n",
    "\n",
    "    # Restrict infrastructure to filter\n",
    "    infrastructure_restricted = infrastructure.sjoin(filter)\n",
    "    if 'index_right' in infrastructure.columns:\n",
    "        infrastructure_restricted.drop(columns=['index_right'], inplace=True)\n",
    "    infrastructure_restricted.drop_duplicates(subset=['PHYSICALID'], keep='first', inplace=True) # remove duplicates from join\n",
    "\n",
    "    # Restrict to segments with in bicycle network\n",
    "    infrastructure = infrastructure_restricted[infrastructure_restricted['BIKE_LANE'].notna()]\n",
    "\n",
    "    # Add ID column\n",
    "    infrastructure['segment_ID'] = infrastructure.index \n",
    "\n",
    "    # Create graph structure based on intersecting segments\n",
    "    def get_neighbors(geometry, id):\n",
    "        neighbors = infrastructure['segment_ID'].loc[infrastructure['the_geom'].intersects(geometry)].tolist()\n",
    "        neighbors.remove(id)\n",
    "        return neighbors\n",
    "        \n",
    "    infrastructure['neighbors'] = infrastructure.apply(lambda x: get_neighbors(x.the_geom, x.segment_ID), axis=1)\n",
    "\n",
    "    # Ensure segments are connected\n",
    "    graph = nx.from_pandas_edgelist(infrastructure.explode('neighbors'), source='segment_ID', target='neighbors')\n",
    "    for subgraph in nx.connected_components(graph):\n",
    "        if len(subgraph) > 1000:\n",
    "            graph = graph.subgraph(subgraph)\n",
    "    infrastructure = infrastructure.loc[list(graph.nodes())] # subset to connected nodes\n",
    "\n",
    "    if 'index_right' in infrastructure.columns:\n",
    "        infrastructure.drop(columns=['index_right'], inplace=True)\n",
    "\n",
    "    return infrastructure\n",
    "\n",
    "# Additional constraints like which way to turn, which roads meet at intersection"
   ]
  },
  {
   "cell_type": "code",
   "execution_count": 276,
   "metadata": {},
   "outputs": [],
   "source": [
    "def preprocess_collisions(filename, filter, infrastructure):\n",
    "    collisions = pd.read_csv(filename).dropna(subset=['LATITUDE', 'LONGITUDE', 'CRASH DATE'])\n",
    "\n",
    "    # Restrict to collisions involving bicycles\n",
    "    markers = ['bike', 'bicyc', 'e - b', 'e-bik', 'e-unicycle', 'bk']\n",
    "    mask = collisions['VEHICLE TYPE CODE 1'].str.contains('bike') # placeholder\n",
    "    for i in [1,2,3,4,5]:\n",
    "        for marker in markers:\n",
    "            mask = mask | collisions[f'VEHICLE TYPE CODE {i}'].str.contains(marker, case=False)\n",
    "    collisions = collisions.loc[mask]\n",
    "\n",
    "    # Restrict to filter\n",
    "    collisions = collisions[collisions.LONGITUDE != 0] # remove 0,0 coordinates\n",
    "    collisions = gpd.GeoDataFrame(collisions, geometry=gpd.points_from_xy(collisions.LONGITUDE, collisions.LATITUDE))\n",
    "\n",
    "    collisions = collisions.sjoin(filter)\n",
    "    if 'index_right' in collisions.columns:\n",
    "        collisions.drop(columns=['index_right'], inplace=True)\n",
    "\n",
    "    # Add ID column\n",
    "    collisions['collision_ID'] = collisions.index \n",
    "\n",
    "    # Connect collisions to infrastructure\n",
    "    collisions = collisions.sjoin_nearest(infrastructure, max_distance=0.0001, how='inner')\n",
    "    if 'index_right' in collisions.columns:\n",
    "        collisions.drop(columns=['index_right'], inplace=True)\n",
    "    if 'index_left' in collisions.columns:\n",
    "        collisions.drop(columns=['index_left'], inplace=True)\n",
    "\n",
    "    collisions.drop_duplicates(subset=['collision_ID'], keep='first', inplace=True)\n",
    "\n",
    "    ## Let's start in 2016 since previous years of citibike have far fewer rides\n",
    "    start_date = pd.Timestamp('2016-01-01')\n",
    "    collisions['CRASH DATE'] = pd.to_datetime(collisions['CRASH DATE'])\n",
    "    collisions = collisions.loc[collisions['CRASH DATE'] >= start_date]\n",
    "\n",
    "    return collisions"
   ]
  },
  {
   "cell_type": "code",
   "execution_count": 269,
   "metadata": {},
   "outputs": [],
   "source": [
    "def preprocess_citibike(year, month, filter):\n",
    "    year = '2016'\n",
    "    month = '01'\n",
    "    filename_citibike = f'data_unwrangled/citibike/{year}{month}-citibike-tripdata.csv'\n",
    "    citibike = pd.read_csv(filename_citibike)\n",
    "\n",
    "    citibike = gpd.GeoDataFrame(citibike)\n",
    "\n",
    "    citibike['ride_ID'] = citibike.index \n",
    "\n",
    "    for type in ['start', 'end']:\n",
    "        citibike[f'{type}_geom'] = gpd.points_from_xy(citibike[f'{type} station longitude'], citibike[f'{type} station latitude'])\n",
    "        citibike.set_geometry(f'{type}_geom', inplace=True)\n",
    "        citibike = citibike.sjoin(filter)\n",
    "        if 'index_right' in citibike.columns:\n",
    "            citibike.drop(columns=['index_right'], inplace=True)\n",
    "        citibike.drop_duplicates(subset=['ride_ID'], keep='first', inplace=True)\n",
    "        \n",
    "\n",
    "    citibike['starttime'] = pd.to_datetime(citibike['starttime'])\n",
    "    citibike['starttime_rounded'] = citibike['starttime'].dt.floor('d')\n",
    "    citibike = citibike[citibike['tripduration'] <= 24 * 60 * 60]\n",
    "\n",
    "    return citibike\n"
   ]
  },
  {
   "cell_type": "code",
   "execution_count": 270,
   "metadata": {},
   "outputs": [],
   "source": [
    "def unique_stations(citibike, infrastructure):\n",
    "\n",
    "    # Combine both start and end stations\n",
    "    stations = {'start': {}, 'end': {}}\n",
    "    for type in ['start', 'end']:\n",
    "        renaming = {f'{type} station id': 'station_id', f'{type}_geom': 'geometry'}\n",
    "        stations[type] = citibike.drop_duplicates(subset=[f'{type} station id'], keep='first').rename(columns=renaming)\n",
    "        stations[type] = stations[type][renaming.values()]\n",
    "    stations = pd.concat([stations['start'], stations['end']])\n",
    "    \n",
    "    # Remove duplicates\n",
    "    stations.drop_duplicates(subset=['station_id'], keep='first', inplace=True)\n",
    "\n",
    "    # Find nearby segments\n",
    "    stations = stations.set_geometry('geometry')\n",
    "    stations = stations.sjoin_nearest(infrastructure, max_distance=0.01, how='left')\n",
    "    if 'index_right' in stations.columns:\n",
    "        stations.drop(columns=['index_right'], inplace=True)\n",
    "    stations.drop_duplicates(subset=[f'station_id'], keep='first', inplace=True)\n",
    "\n",
    "    return stations"
   ]
  },
  {
   "cell_type": "code",
   "execution_count": 277,
   "metadata": {},
   "outputs": [
    {
     "name": "stderr",
     "output_type": "stream",
     "text": [
      "/var/folders/0n/hqwrwrp96x3g_q8dnhlmvghh0000gn/T/ipykernel_12356/3982972818.py:2: DtypeWarning: Columns (3) have mixed types. Specify dtype option on import or set low_memory=False.\n",
      "  collisions = pd.read_csv(filename).dropna(subset=['LATITUDE', 'LONGITUDE', 'CRASH DATE'])\n",
      "/Users/rtealwitter/miniconda3/lib/python3.9/site-packages/geopandas/geodataframe.py:2090: UserWarning: CRS mismatch between the CRS of left geometries and the CRS of right geometries.\n",
      "Use `to_crs()` to reproject one of the input geometries to match the CRS of the other.\n",
      "\n",
      "Left CRS: None\n",
      "Right CRS: EPSG:4326\n",
      "\n",
      "  return geopandas.sjoin(left_df=self, right_df=df, *args, **kwargs)\n",
      "/Users/rtealwitter/miniconda3/lib/python3.9/site-packages/geopandas/geodataframe.py:2090: UserWarning: CRS mismatch between the CRS of left geometries and the CRS of right geometries.\n",
      "Use `to_crs()` to reproject one of the input geometries to match the CRS of the other.\n",
      "\n",
      "Left CRS: None\n",
      "Right CRS: EPSG:4326\n",
      "\n",
      "  return geopandas.sjoin(left_df=self, right_df=df, *args, **kwargs)\n",
      "/Users/rtealwitter/miniconda3/lib/python3.9/site-packages/geopandas/geodataframe.py:2090: UserWarning: CRS mismatch between the CRS of left geometries and the CRS of right geometries.\n",
      "Use `to_crs()` to reproject one of the input geometries to match the CRS of the other.\n",
      "\n",
      "Left CRS: None\n",
      "Right CRS: EPSG:4326\n",
      "\n",
      "  return geopandas.sjoin(left_df=self, right_df=df, *args, **kwargs)\n"
     ]
    }
   ],
   "source": [
    "# Load filter of Manhattan\n",
    "# Perhaps get a *connected* filter?\n",
    "filter = gpd.read_file(filename_boundaries)\n",
    "filter = filter[filter['boro_name'] == 'Manhattan']\n",
    "\n",
    "infrastructure = preprocess_infrastructure(filename_infrastructure, filter)\n",
    "collisions = preprocess_collisions(filename_collisions, filter, infrastructure)\n",
    "citibike = preprocess_citibike(year='2016', month='01', filter=filter)\n",
    "stations = unique_stations(citibike, infrastructure)"
   ]
  },
  {
   "cell_type": "code",
   "execution_count": 453,
   "metadata": {},
   "outputs": [
    {
     "name": "stderr",
     "output_type": "stream",
     "text": [
      "<class 'networkx.utils.decorators.argmap'> compilation 16:4: FutureWarning: laplacian_matrix will return a scipy.sparse array instead of a matrix in Networkx 3.0.\n"
     ]
    }
   ],
   "source": [
    "graph = nx.from_pandas_edgelist(infrastructure.explode('neighbors'), source='segment_ID', target='neighbors')\n",
    "nodes = list(graph.nodes())\n",
    "Laplacian = nx.laplacian_matrix(graph, nodelist=nodes)\n",
    "Lpinv = linalg.pinv(Laplacian.todense())\n",
    "with open(filename_saved, 'rb') as pickle_file:\n",
    "    saved = pickle.load(pickle_file)"
   ]
  },
  {
   "cell_type": "code",
   "execution_count": 465,
   "metadata": {},
   "outputs": [],
   "source": [
    "station_to_segment = dict(zip(stations.station_id, stations.segment_ID))\n",
    "segment_to_index = {segment_ID : nodes.index(segment_ID) for segment_ID in infrastructure['segment_ID']}\n",
    "\n",
    "def calculate_flow(start, end, count):\n",
    "    assert start != end\n",
    "    start = station_to_segment[start]\n",
    "    end = station_to_segment[end]\n",
    "    key = (start, end) if start < end else (end, start)\n",
    "    if key not in saved:\n",
    "        Lpinv_vector = Lpinv[nodes.index(start)] - Lpinv[nodes.index(end)]\n",
    "        resistance = Lpinv_vector[0, nodes.index(start)] - Lpinv_vector[0, nodes.index(end)]\n",
    "        if resistance != 0:\n",
    "            voltages = (Lpinv_vector/resistance).round(5)[0]\n",
    "\n",
    "            def letitflow(segment_ID, neighbors):\n",
    "                own = voltages[segment_to_index[segment_ID]]\n",
    "                return sum([(voltages[segment_to_index[neighbor]]-own)**2 for neighbor in neighbors])\n",
    "\n",
    "            vectorized = np.vectorize(lambda x, y : letitflow(x, y))\n",
    "\n",
    "            saved[key] = vectorized(infrastructure.segment_ID, infrastructure.neighbors)\n",
    "        else: \n",
    "            saved[key] = np.zeros(len(infrastructure['segment_ID']), dtype=np.float64)\n",
    "    \n",
    "    return count*saved[key]"
   ]
  },
  {
   "cell_type": "code",
   "execution_count": 515,
   "metadata": {},
   "outputs": [],
   "source": [
    "i = 13\n",
    "day = citibike['starttime_rounded'].unique()[i]\n",
    "citibike_day = citibike[citibike['starttime_rounded']==day][['start station id', 'end station id']]\n",
    "grouped = citibike_day.groupby(['start station id', 'end station id']).size().reset_index(name='count')\n",
    "grouped = grouped[grouped['start station id'] != grouped['end station id']]"
   ]
  },
  {
   "cell_type": "code",
   "execution_count": 516,
   "metadata": {},
   "outputs": [],
   "source": [
    "total = np.zeros(len(infrastructure['segment_ID']), dtype=np.float64)\n",
    "for (start, end, count) in zip(grouped['start station id'], grouped['end station id'], grouped['count']):\n",
    "    total += calculate_flow(start, end, count)\n",
    "# Ensure each segment has at least some flow\n",
    "minimum = total[total != 0].min()\n",
    "total[total == 0] = minimum"
   ]
  },
  {
   "cell_type": "code",
   "execution_count": 509,
   "metadata": {},
   "outputs": [
    {
     "data": {
      "image/png": "[encoded data removed]",
      "text/plain": [
       "<Figure size 432x288 with 1 Axes>"
      ]
     },
     "metadata": {
      "needs_background": "light"
     },
     "output_type": "display_data"
    },
    {
     "name": "stdout",
     "output_type": "stream",
     "text": [
      "0\n",
      "2.1000000000013062e-08\n",
      "2.1000000000013062e-08\n"
     ]
    }
   ],
   "source": [
    "plt.hist(total)\n",
    "plt.show()"
   ]
  },
  {
   "cell_type": "code",
   "execution_count": 518,
   "metadata": {},
   "outputs": [],
   "source": [
    "with open(filename_saved, 'wb') as pickle_file:\n",
    "    pickle.dump(saved, pickle_file)\n"
   ]
  }
 ],
 "metadata": {
  "kernelspec": {
   "display_name": "Python 3.9.12 ('base')",
   "language": "python",
   "name": "python3"
  },
  "language_info": {
   "codemirror_mode": {
    "name": "ipython",
    "version": 3
   },
   "file_extension": ".py",
   "mimetype": "text/x-python",
   "name": "python",
   "nbconvert_exporter": "python",
   "pygments_lexer": "ipython3",
   "version": "3.9.12"
  },
  "orig_nbformat": 4,
  "vscode": {
   "interpreter": {
    "hash": "95ee71ea249aa2e9e4602de52516e559983ad773b5ebbcec62edf843d39d54f2"
   }
  }
 },
 "nbformat": 4,
 "nbformat_minor": 2
}
