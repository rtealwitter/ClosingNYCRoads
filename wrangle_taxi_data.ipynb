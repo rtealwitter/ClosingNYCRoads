{
 "cells": [
  {
   "cell_type": "code",
   "execution_count": 10,
   "metadata": {},
   "outputs": [
    {
     "name": "stderr",
     "output_type": "stream",
     "text": [
      "/Users/lucasrosenblatt/opt/miniconda3/envs/take_a_ride/lib/python3.9/site-packages/geopandas/_compat.py:123: UserWarning: The Shapely GEOS version (3.11.1-CAPI-1.17.1) is incompatible with the GEOS version PyGEOS was compiled with (3.10.4-CAPI-1.16.2). Conversions between both will be slow.\n",
      "  warnings.warn(\n",
      "/var/folders/qj/gh_j11514m37mqtfrlr885k40000gn/T/ipykernel_86989/1397207335.py:2: UserWarning: Shapely 2.0 is installed, but because PyGEOS is also installed, GeoPandas will still use PyGEOS by default for now. To force to use and test Shapely 2.0, you have to set the environment variable USE_PYGEOS=0. You can do this before starting the Python process, or in your code before importing geopandas:\n",
      "\n",
      "import os\n",
      "os.environ['USE_PYGEOS'] = '0'\n",
      "import geopandas\n",
      "\n",
      "In a future release, GeoPandas will switch to using Shapely by default. If you are using PyGEOS directly (calling PyGEOS functions on geometries from GeoPandas), this will then stop working and you are encouraged to migrate from PyGEOS to Shapely 2.0 (https://shapely.readthedocs.io/en/latest/migration_pygeos.html).\n",
      "  import geopandas as gpd\n"
     ]
    }
   ],
   "source": [
    "import pandas as pd\n",
    "import geopandas as gpd\n",
    "import networkx as nx\n",
    "import numpy as np\n",
    "from datetime import datetime\n",
    "from dateutil import parser\n",
    "from azureml.opendatasets import NycTlcYellow"
   ]
  },
  {
   "attachments": {},
   "cell_type": "markdown",
   "metadata": {},
   "source": [
    "### Preprocess taxi\n",
    "Note: This takes ~2.5 minutes when report_missing=False, and ~5 minutes when report_missing=True"
   ]
  },
  {
   "cell_type": "code",
   "execution_count": 37,
   "metadata": {},
   "outputs": [
    {
     "name": "stdout",
     "output_type": "stream",
     "text": [
      "[Info] read from /var/folders/qj/gh_j11514m37mqtfrlr885k40000gn/T/tmpf0lmau3b/https%3A/%2Fazureopendatastorage.azurefd.net/nyctlc/yellow/puYear=2013/puMonth=7/part-00000-tid-8898858832658823408-a1de80bd-eed3-4d11-b9d4-fa74bfbd47bc-426339-60.c000.snappy.parquet\n",
      "[Info] read from /var/folders/qj/gh_j11514m37mqtfrlr885k40000gn/T/tmpf0lmau3b/https%3A/%2Fazureopendatastorage.azurefd.net/nyctlc/yellow/puYear=2013/puMonth=7/part-00008-tid-8898858832658823408-a1de80bd-eed3-4d11-b9d4-fa74bfbd47bc-426341-60.c000.snappy.parquet\n",
      "[Info] read from /var/folders/qj/gh_j11514m37mqtfrlr885k40000gn/T/tmpf0lmau3b/https%3A/%2Fazureopendatastorage.azurefd.net/nyctlc/yellow/puYear=2013/puMonth=7/part-00016-tid-8898858832658823408-a1de80bd-eed3-4d11-b9d4-fa74bfbd47bc-426328-58.c000.snappy.parquet\n",
      "[Info] read from /var/folders/qj/gh_j11514m37mqtfrlr885k40000gn/T/tmpf0lmau3b/https%3A/%2Fazureopendatastorage.azurefd.net/nyctlc/yellow/puYear=2013/puMonth=7/part-00001-tid-8898858832658823408-a1de80bd-eed3-4d11-b9d4-fa74bfbd47bc-426336-59.c000.snappy.parquet\n",
      "[Info] read from /var/folders/qj/gh_j11514m37mqtfrlr885k40000gn/T/tmpf0lmau3b/https%3A/%2Fazureopendatastorage.azurefd.net/nyctlc/yellow/puYear=2013/puMonth=7/part-00009-tid-8898858832658823408-a1de80bd-eed3-4d11-b9d4-fa74bfbd47bc-426325-58.c000.snappy.parquet\n",
      "[Info] read from /var/folders/qj/gh_j11514m37mqtfrlr885k40000gn/T/tmpf0lmau3b/https%3A/%2Fazureopendatastorage.azurefd.net/nyctlc/yellow/puYear=2013/puMonth=7/part-00017-tid-8898858832658823408-a1de80bd-eed3-4d11-b9d4-fa74bfbd47bc-426323-60.c000.snappy.parquet\n",
      "[Info] read from /var/folders/qj/gh_j11514m37mqtfrlr885k40000gn/T/tmpf0lmau3b/https%3A/%2Fazureopendatastorage.azurefd.net/nyctlc/yellow/puYear=2013/puMonth=7/part-00002-tid-8898858832658823408-a1de80bd-eed3-4d11-b9d4-fa74bfbd47bc-426334-61.c000.snappy.parquet\n",
      "[Info] read from /var/folders/qj/gh_j11514m37mqtfrlr885k40000gn/T/tmpf0lmau3b/https%3A/%2Fazureopendatastorage.azurefd.net/nyctlc/yellow/puYear=2013/puMonth=7/part-00010-tid-8898858832658823408-a1de80bd-eed3-4d11-b9d4-fa74bfbd47bc-426335-59.c000.snappy.parquet\n",
      "[Info] read from /var/folders/qj/gh_j11514m37mqtfrlr885k40000gn/T/tmpf0lmau3b/https%3A/%2Fazureopendatastorage.azurefd.net/nyctlc/yellow/puYear=2013/puMonth=7/part-00018-tid-8898858832658823408-a1de80bd-eed3-4d11-b9d4-fa74bfbd47bc-426329-60.c000.snappy.parquet\n",
      "[Info] read from /var/folders/qj/gh_j11514m37mqtfrlr885k40000gn/T/tmpf0lmau3b/https%3A/%2Fazureopendatastorage.azurefd.net/nyctlc/yellow/puYear=2013/puMonth=7/part-00003-tid-8898858832658823408-a1de80bd-eed3-4d11-b9d4-fa74bfbd47bc-426340-57.c000.snappy.parquet\n",
      "[Info] read from /var/folders/qj/gh_j11514m37mqtfrlr885k40000gn/T/tmpf0lmau3b/https%3A/%2Fazureopendatastorage.azurefd.net/nyctlc/yellow/puYear=2013/puMonth=7/part-00011-tid-8898858832658823408-a1de80bd-eed3-4d11-b9d4-fa74bfbd47bc-426338-59.c000.snappy.parquet\n",
      "[Info] read from /var/folders/qj/gh_j11514m37mqtfrlr885k40000gn/T/tmpf0lmau3b/https%3A/%2Fazureopendatastorage.azurefd.net/nyctlc/yellow/puYear=2013/puMonth=7/part-00019-tid-8898858832658823408-a1de80bd-eed3-4d11-b9d4-fa74bfbd47bc-426333-58.c000.snappy.parquet\n",
      "[Info] read from /var/folders/qj/gh_j11514m37mqtfrlr885k40000gn/T/tmpf0lmau3b/https%3A/%2Fazureopendatastorage.azurefd.net/nyctlc/yellow/puYear=2013/puMonth=7/part-00004-tid-8898858832658823408-a1de80bd-eed3-4d11-b9d4-fa74bfbd47bc-426331-58.c000.snappy.parquet\n",
      "[Info] read from /var/folders/qj/gh_j11514m37mqtfrlr885k40000gn/T/tmpf0lmau3b/https%3A/%2Fazureopendatastorage.azurefd.net/nyctlc/yellow/puYear=2013/puMonth=7/part-00012-tid-8898858832658823408-a1de80bd-eed3-4d11-b9d4-fa74bfbd47bc-426337-59.c000.snappy.parquet\n",
      "[Info] read from /var/folders/qj/gh_j11514m37mqtfrlr885k40000gn/T/tmpf0lmau3b/https%3A/%2Fazureopendatastorage.azurefd.net/nyctlc/yellow/puYear=2013/puMonth=7/part-00005-tid-8898858832658823408-a1de80bd-eed3-4d11-b9d4-fa74bfbd47bc-426324-59.c000.snappy.parquet\n",
      "[Info] read from /var/folders/qj/gh_j11514m37mqtfrlr885k40000gn/T/tmpf0lmau3b/https%3A/%2Fazureopendatastorage.azurefd.net/nyctlc/yellow/puYear=2013/puMonth=7/part-00013-tid-8898858832658823408-a1de80bd-eed3-4d11-b9d4-fa74bfbd47bc-426327-59.c000.snappy.parquet\n",
      "[Info] read from /var/folders/qj/gh_j11514m37mqtfrlr885k40000gn/T/tmpf0lmau3b/https%3A/%2Fazureopendatastorage.azurefd.net/nyctlc/yellow/puYear=2013/puMonth=7/part-00006-tid-8898858832658823408-a1de80bd-eed3-4d11-b9d4-fa74bfbd47bc-426326-58.c000.snappy.parquet\n",
      "[Info] read from /var/folders/qj/gh_j11514m37mqtfrlr885k40000gn/T/tmpf0lmau3b/https%3A/%2Fazureopendatastorage.azurefd.net/nyctlc/yellow/puYear=2013/puMonth=7/part-00014-tid-8898858832658823408-a1de80bd-eed3-4d11-b9d4-fa74bfbd47bc-426330-60.c000.snappy.parquet\n",
      "[Info] read from /var/folders/qj/gh_j11514m37mqtfrlr885k40000gn/T/tmpf0lmau3b/https%3A/%2Fazureopendatastorage.azurefd.net/nyctlc/yellow/puYear=2013/puMonth=7/part-00007-tid-8898858832658823408-a1de80bd-eed3-4d11-b9d4-fa74bfbd47bc-426332-60.c000.snappy.parquet\n",
      "[Info] read from /var/folders/qj/gh_j11514m37mqtfrlr885k40000gn/T/tmpf0lmau3b/https%3A/%2Fazureopendatastorage.azurefd.net/nyctlc/yellow/puYear=2013/puMonth=7/part-00015-tid-8898858832658823408-a1de80bd-eed3-4d11-b9d4-fa74bfbd47bc-426342-59.c000.snappy.parquet\n"
     ]
    },
    {
     "name": "stderr",
     "output_type": "stream",
     "text": [
      "/Users/lucasrosenblatt/opt/miniconda3/envs/take_a_ride/lib/python3.9/site-packages/geopandas/geodataframe.py:2061: UserWarning: CRS mismatch between the CRS of left geometries and the CRS of right geometries.\n",
      "Use `to_crs()` to reproject one of the input geometries to match the CRS of the other.\n",
      "\n",
      "Left CRS: None\n",
      "Right CRS: EPSG:4326\n",
      "\n",
      "  return geopandas.sjoin(left_df=self, right_df=df, *args, **kwargs)\n"
     ]
    },
    {
     "name": "stdout",
     "output_type": "stream",
     "text": [
      "Total start: 691138\n"
     ]
    },
    {
     "name": "stderr",
     "output_type": "stream",
     "text": [
      "/Users/lucasrosenblatt/opt/miniconda3/envs/take_a_ride/lib/python3.9/site-packages/geopandas/geodataframe.py:2061: UserWarning: CRS mismatch between the CRS of left geometries and the CRS of right geometries.\n",
      "Use `to_crs()` to reproject one of the input geometries to match the CRS of the other.\n",
      "\n",
      "Left CRS: None\n",
      "Right CRS: EPSG:4326\n",
      "\n",
      "  return geopandas.sjoin(left_df=self, right_df=df, *args, **kwargs)\n",
      "/Users/lucasrosenblatt/opt/miniconda3/envs/take_a_ride/lib/python3.9/site-packages/geopandas/geodataframe.py:2061: UserWarning: CRS mismatch between the CRS of left geometries and the CRS of right geometries.\n",
      "Use `to_crs()` to reproject one of the input geometries to match the CRS of the other.\n",
      "\n",
      "Left CRS: None\n",
      "Right CRS: EPSG:4326\n",
      "\n",
      "  return geopandas.sjoin(left_df=self, right_df=df, *args, **kwargs)\n"
     ]
    },
    {
     "name": "stdout",
     "output_type": "stream",
     "text": [
      "Total end: 691138\n",
      "Dropped fraction: 0.15196331403665922\n"
     ]
    }
   ],
   "source": [
    "def preprocess_filter(filename):\n",
    "    filter = gpd.read_file(filename)\n",
    "    filter = filter[filter['boro_name'] == 'Manhattan']\n",
    "    return filter\n",
    "\n",
    "def filter_taxi_trips(df):\n",
    "    # Make sure rides are longer than one minute\n",
    "    df = df[df['tpepDropoffDateTime'] - df['tpepPickupDateTime'] > np.timedelta64(1, 'm')]\n",
    "    # Make sure rides are longer than .1 mile\n",
    "    df = df[df['tripDistance'] > 0.1]\n",
    "    # Make sure fare is non-zero \n",
    "    df = df[df['fareAmount'] > 0.0]\n",
    "    return df\n",
    "\n",
    "# TODO: redo for taxi trips lol\n",
    "# TODO: filter start and end so that they are in manhattan\n",
    "# TODO: let's see how many trips we lose when we filter out start/end\n",
    "def preprocess_taxi(year, month, filter, report_missing=False):\n",
    "    import calendar\n",
    "    month_last_day = calendar.monthrange(year=int(year),month=int(month))[1]\n",
    "    start_date = parser.parse(str(year)+'-'+str(month)+'-01')\n",
    "    end_date = parser.parse(str(year)+'-'+str(month)+'-'+str(month_last_day))\n",
    "\n",
    "    nyc_tlc = NycTlcYellow(start_date=start_date, end_date=end_date)\n",
    "    taxi = nyc_tlc.to_pandas_dataframe()\n",
    "    taxi = filter_taxi_trips(taxi)\n",
    "    \n",
    "    taxi = gpd.GeoDataFrame(taxi)\n",
    "    taxi['ride_ID'] = taxi.index\n",
    "\n",
    "    total_start_rides = -1\n",
    "    total_end_rides = -1\n",
    "    full_taxi = None\n",
    "    for type in ['start', 'end']:\n",
    "        # For tracking start/end routes outside manhattan\n",
    "        if type == 'start' and report_missing:\n",
    "            full_taxi = taxi.copy(deep=True)\n",
    "            full_taxi = gpd.GeoDataFrame(full_taxi)\n",
    "\n",
    "        taxi[f'{type}_geom'] = gpd.points_from_xy(taxi[f'{type}Lon'], taxi[f'{type}Lat'])\n",
    "        taxi.set_geometry(f'{type}_geom', inplace=True)\n",
    "        taxi = taxi.sjoin(filter)\n",
    "\n",
    "        if 'index_right' in taxi.columns:\n",
    "            taxi.drop(columns=['index_right'], inplace=True)\n",
    "        taxi.drop_duplicates(subset=['ride_ID'], keep='first', inplace=True)\n",
    "\n",
    "        # For tracking start/end routes outside manhattan\n",
    "        if type == 'start' and report_missing:\n",
    "            total_start_rides = len(taxi)\n",
    "            print('Total start: ' + str(total_start_rides))\n",
    "        elif report_missing:\n",
    "            full_taxi[f'{type}_geom'] = gpd.points_from_xy(full_taxi[f'{type}Lon'], full_taxi[f'{type}Lat'])\n",
    "            full_taxi.set_geometry(f'{type}_geom', inplace=True)\n",
    "            end_taxi = full_taxi.sjoin(filter)\n",
    "            end_taxi.drop_duplicates(subset=['ride_ID'], keep='first', inplace=True)\n",
    "            total_end_rides = len(end_taxi)\n",
    "            print('Total end: ' + str(total_end_rides))\n",
    "\n",
    "    # Track how many rides either start OR end in manhattan, but not both   \n",
    "    dropped = ((total_start_rides - len(taxi)) + (total_end_rides - len(taxi))) / (total_start_rides + total_end_rides - len(taxi))\n",
    "    print('Dropped fraction: ' + str(dropped))\n",
    "\n",
    "    taxi['starttime'] = pd.to_datetime(taxi['tpepPickupDateTime'])\n",
    "    taxi['starttime_rounded'] = taxi['starttime'].dt.floor('d')\n",
    "\n",
    "    return taxi\n",
    "\n",
    "manhattan_filter = preprocess_filter('data_unwrangled/2010 Neighborhood Tabulation Areas (NTAs).geojson')\n",
    "taxi = preprocess_taxi('2013', '7', manhattan_filter, report_missing=True)"
   ]
  },
  {
   "cell_type": "code",
   "execution_count": null,
   "metadata": {},
   "outputs": [],
   "source": []
  }
 ],
 "metadata": {
  "kernelspec": {
   "display_name": "take_a_ride",
   "language": "python",
   "name": "python3"
  },
  "language_info": {
   "codemirror_mode": {
    "name": "ipython",
    "version": 3
   },
   "file_extension": ".py",
   "mimetype": "text/x-python",
   "name": "python",
   "nbconvert_exporter": "python",
   "pygments_lexer": "ipython3",
   "version": "3.9.15"
  },
  "orig_nbformat": 4,
  "vscode": {
   "interpreter": {
    "hash": "e35aaebb2d0cb590aa7750ed226c96b5ae7047775ee9dabaa90f72c8db9516ca"
   }
  }
 },
 "nbformat": 4,
 "nbformat_minor": 2
}
